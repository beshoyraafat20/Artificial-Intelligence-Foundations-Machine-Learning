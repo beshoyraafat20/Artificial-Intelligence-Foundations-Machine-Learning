{
  "nbformat": 4,
  "nbformat_minor": 0,
  "metadata": {
    "colab": {
      "provenance": [],
      "authorship_tag": "ABX9TyOXjHuBJAtuWj38YdJzNXAz",
      "include_colab_link": true
    },
    "kernelspec": {
      "name": "python3",
      "display_name": "Python 3"
    },
    "language_info": {
      "name": "python"
    }
  },
  "cells": [
    {
      "cell_type": "markdown",
      "metadata": {
        "id": "view-in-github",
        "colab_type": "text"
      },
      "source": [
        "<a href=\"https://colab.research.google.com/github/beshoyraafat20/Artificial-Intelligence-Foundations-Machine-Learning/blob/main/HomePrediction.ipynb\" target=\"_parent\"><img src=\"https://colab.research.google.com/assets/colab-badge.svg\" alt=\"Open In Colab\"/></a>"
      ]
    },
    {
      "cell_type": "markdown",
      "source": [
        "# Predict the Cost of Homes in\n",
        "\n",
        "*   List item\n",
        "*   List item\n",
        "\n",
        "California Using Numpy + Pandas in Jupyter\n"
      ],
      "metadata": {
        "id": "-vZKltRXVgO3"
      }
    },
    {
      "cell_type": "markdown",
      "source": [
        "This notebook trains a machine learning model that predicts home costs in California.\n",
        "\n",
        "The overall objective is to predict the value of home prices using **9 feature variables and 1 target variable:**\n",
        "\n",
        "#### **Feature Variables** ####\n",
        "\n",
        "1.  **longitude:** A measure of how far west a house is (a higher value is farther west)\n",
        "2.  **latitude:** A measure of how far north a house is (a higher value is farther north)\n",
        "3.  **housingMedianAge:** Median age of a house within a block (a lower number is a newer building)\n",
        "4.  **totalRooms:** Total number of rooms within a block\n",
        "5.  **totalBedrooms:** Total number of bedrooms within a block\n",
        "6.  **population:** Total number of people residing within a block\n",
        "7.  **households:** Total number of households, a group of people residing within a home unit, for a block\n",
        "8.  **medianIncome:** Median income for households within a block of houses (measured in tens of thousands of US Dollars)\n",
        "9.  **oceanProximity:** Location of the house in proximity to the ocean\n",
        "\n",
        "#### **Target Variable** ####\n",
        "1.  **medianHouseValue:** Median house value for households within a block (measured in US Dollars)"
      ],
      "metadata": {
        "id": "yPMZ5g3AVpjb"
      }
    },
    {
      "cell_type": "markdown",
      "source": [
        "# Obtain & Load Data"
      ],
      "metadata": {
        "id": "siAsxae1gtNj"
      }
    },
    {
      "cell_type": "code",
      "execution_count": null,
      "metadata": {
        "id": "JUrneF15TUEJ"
      },
      "outputs": [],
      "source": [
        "import pandas as pd\n",
        "import seaborn as sns\n",
        "\n",
        "import matplotlib.pyplot as plt\n",
        "%matplotlib inline\n",
        "\n",
        "import numpy as np"
      ]
    },
    {
      "cell_type": "code",
      "source": [
        "\n",
        "# Read in the data with read_csv() into a Pandas Dataframe\n",
        "df = pd.read_csv('housing.csv')\n",
        "\n",
        "# Use .info() to show the features (i.e. columns) in your dataset along with a count and datatype\n",
        "df.info()"
      ],
      "metadata": {
        "id": "dq7OzJK1jY7H",
        "outputId": "234c5d23-2092-435d-acce-56eae78e36af",
        "colab": {
          "base_uri": "https://localhost:8080/"
        }
      },
      "execution_count": 8,
      "outputs": [
        {
          "output_type": "stream",
          "name": "stdout",
          "text": [
            "<class 'pandas.core.frame.DataFrame'>\n",
            "RangeIndex: 20640 entries, 0 to 20639\n",
            "Data columns (total 10 columns):\n",
            " #   Column              Non-Null Count  Dtype  \n",
            "---  ------              --------------  -----  \n",
            " 0   longitude           20640 non-null  float64\n",
            " 1   latitude            20640 non-null  float64\n",
            " 2   housing_median_age  20640 non-null  float64\n",
            " 3   total_rooms         20640 non-null  float64\n",
            " 4   total_bedrooms      20433 non-null  float64\n",
            " 5   population          20640 non-null  float64\n",
            " 6   households          20640 non-null  float64\n",
            " 7   median_income       20640 non-null  float64\n",
            " 8   median_house_value  20640 non-null  float64\n",
            " 9   ocean_proximity     20640 non-null  object \n",
            "dtypes: float64(9), object(1)\n",
            "memory usage: 1.6+ MB\n"
          ]
        }
      ]
    },
    {
      "cell_type": "markdown",
      "source": [],
      "metadata": {
        "id": "XDZPxeflhPTJ"
      }
    }
  ]
}